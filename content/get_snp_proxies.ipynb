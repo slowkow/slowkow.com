{
 "cells": [
  {
   "cell_type": "markdown",
   "metadata": {},
   "source": [
    "# Find SNP proxies in R\n",
    "\n",
    "2018-04-29\n",
    "\n",
    "Kamil Slowikowski\n",
    "\n",
    "## Summary\n",
    "\n",
    "We use R to find the proxies for one SNP in the public 1000 Genomes data.\n",
    "\n",
    "We'll take advantage of the public imputed genotypes hosted on a server at the\n",
    "University of Washington.\n",
    "\n",
    "This notebook is intentionally brief. For more details, check out the vignettes and\n",
    "reference manuals for these packages:\n",
    "\n",
    "- [snpStats]\n",
    "- [VariantAnnotation]\n",
    "- [Rsamtools]\n",
    "\n",
    "[snpStats]: https://www.bioconductor.org/packages/release/bioc/html/snpStats.html\n",
    "[VariantAnnotation]: https://www.bioconductor.org/packages/release/bioc/html/VariantAnnotation.html\n",
    "[Rsamtools]: https://www.bioconductor.org/packages/release/bioc/html/Rsamtools.html"
   ]
  },
  {
   "cell_type": "markdown",
   "metadata": {},
   "source": [
    "## Install and load packages"
   ]
  },
  {
   "cell_type": "code",
   "execution_count": 1,
   "metadata": {},
   "outputs": [
    {
     "name": "stderr",
     "output_type": "stream",
     "text": [
      "Bioconductor version 3.7 (BiocInstaller 1.29.6), ?biocLite for help\n"
     ]
    }
   ],
   "source": [
    "source(\"http://bioconductor.org/biocLite.R\")\n",
    "packages <- c(\"Rsamtools\", \"VariantAnnotation\", \"snpStats\")\n",
    "\n",
    "for (p in packages) {\n",
    "  if (!suppressMessages(require(p, character.only = TRUE, quietly = TRUE))) {\n",
    "    biocLite(p, suppressUpdates = TRUE, ask = FALSE)\n",
    "  }\n",
    "}"
   ]
  },
  {
   "cell_type": "code",
   "execution_count": 2,
   "metadata": {},
   "outputs": [
    {
     "name": "stderr",
     "output_type": "stream",
     "text": [
      "Loading required package: pacman\n"
     ]
    }
   ],
   "source": [
    "if (!require(\"pacman\")) { install.packages(\"pacman\") }\n",
    "pacman::p_load(\n",
    "  ggplot2,\n",
    "  glue,\n",
    "  Rsamtools,\n",
    "  snpStats,\n",
    "  VariantAnnotation\n",
    ")"
   ]
  },
  {
   "cell_type": "markdown",
   "metadata": {},
   "source": [
    "## Read a VCF file\n",
    "\n",
    "The VCF file can be located on a public HTTP server or on your local disk.\n",
    "\n",
    "The VCF should be compressed with **bgzip** (not with gzip) and accompanied by\n",
    "a **tabix** index file `filename.vcf.gz.tbi` to locate chunks of data quickly."
   ]
  },
  {
   "cell_type": "code",
   "execution_count": 3,
   "metadata": {},
   "outputs": [
    {
     "name": "stderr",
     "output_type": "stream",
     "text": [
      "Warning message in .local(x, ...):\n",
      "“variants with >1 ALT allele are set to NA”non-single nucleotide variations are set to NA\n"
     ]
    },
    {
     "data": {
      "text/html": [
       "<table>\n",
       "<thead><tr><th></th><th scope=col>rs6489463</th><th scope=col>rs192120541</th><th scope=col>rs547723211</th><th scope=col>rs569164619</th><th scope=col>rs150886436</th></tr></thead>\n",
       "<tbody>\n",
       "\t<tr><th scope=row>HG00096</th><td>01</td><td>01</td><td>00</td><td>01</td><td>01</td></tr>\n",
       "\t<tr><th scope=row>HG00097</th><td>03</td><td>01</td><td>00</td><td>01</td><td>01</td></tr>\n",
       "\t<tr><th scope=row>HG00099</th><td>03</td><td>01</td><td>00</td><td>01</td><td>01</td></tr>\n",
       "\t<tr><th scope=row>HG00100</th><td>02</td><td>01</td><td>00</td><td>01</td><td>01</td></tr>\n",
       "\t<tr><th scope=row>HG00101</th><td>02</td><td>01</td><td>00</td><td>01</td><td>01</td></tr>\n",
       "</tbody>\n",
       "</table>\n"
      ],
      "text/latex": [
       "\\begin{tabular}{r|lllll}\n",
       "  & rs6489463 & rs192120541 & rs547723211 & rs569164619 & rs150886436\\\\\n",
       "\\hline\n",
       "\tHG00096 & 01 & 01 & 00 & 01 & 01\\\\\n",
       "\tHG00097 & 03 & 01 & 00 & 01 & 01\\\\\n",
       "\tHG00099 & 03 & 01 & 00 & 01 & 01\\\\\n",
       "\tHG00100 & 02 & 01 & 00 & 01 & 01\\\\\n",
       "\tHG00101 & 02 & 01 & 00 & 01 & 01\\\\\n",
       "\\end{tabular}\n"
      ],
      "text/markdown": [
       "\n",
       "| <!--/--> | rs6489463 | rs192120541 | rs547723211 | rs569164619 | rs150886436 | \n",
       "|---|---|---|---|---|\n",
       "| HG00096 | 01 | 01 | 00 | 01 | 01 | \n",
       "| HG00097 | 03 | 01 | 00 | 01 | 01 | \n",
       "| HG00099 | 03 | 01 | 00 | 01 | 01 | \n",
       "| HG00100 | 02 | 01 | 00 | 01 | 01 | \n",
       "| HG00101 | 02 | 01 | 00 | 01 | 01 | \n",
       "\n",
       "\n"
      ],
      "text/plain": [
       "        rs6489463 rs192120541 rs547723211 rs569164619 rs150886436\n",
       "HG00096 01        01          00          01          01         \n",
       "HG00097 03        01          00          01          01         \n",
       "HG00099 03        01          00          01          01         \n",
       "HG00100 02        01          00          01          01         \n",
       "HG00101 02        01          00          01          01         "
      ]
     },
     "metadata": {},
     "output_type": "display_data"
    }
   ],
   "source": [
    "region <- list(\n",
    "  genome = \"hg19\",\n",
    "  chrom  = \"12\",\n",
    "  start  = 483090,\n",
    "  end    = 683090\n",
    ")\n",
    "\n",
    "# A local file on your disk.\n",
    "# vcf_file <- glue(\"chr{chrom}.1kg.phase3.v5a.vcf.gz\", chrom = region$chrom)\n",
    "\n",
    "# A remote file on an HTTP server.\n",
    "vcf_file <- glue(file.path(\n",
    "  \"http://bochet.gcc.biostat.washington.edu\",\n",
    "  \"beagle/1000_Genomes_phase3_v5a/vcf.b37\",\n",
    "  \"chr{chrom}.1kg.phase3.v5a.vcf.gz\"\n",
    "), chrom = region$chrom)\n",
    "\n",
    "# Set parameters to retrieve one chunk of data.\n",
    "param <- ScanVcfParam(\n",
    "  which = GRanges(\n",
    "    seqnames = region$chrom, \n",
    "    ranges = IRanges(region$start, region$end)\n",
    "  )\n",
    ")\n",
    "\n",
    "# Get VCF data from a local file or remote URL.\n",
    "vcf <- readVcf(file = TabixFile(vcf_file), genome = region$genome, param = param)\n",
    "gt <- genotypeToSnpMatrix(vcf)\n",
    "\n",
    "# Glance at the upper left corner of the genotype matrix.\n",
    "gt$genotypes[1:5,1:5]"
   ]
  },
  {
   "cell_type": "markdown",
   "metadata": {},
   "source": [
    "## Get r squared values for a specific SNP\n",
    "\n",
    "Let's define a convenience function that makes a dataframe with $D'$ and $r^2$ values\n",
    "for each SNP in the region with our chosen SNP."
   ]
  },
  {
   "cell_type": "code",
   "execution_count": 4,
   "metadata": {},
   "outputs": [],
   "source": [
    "get_snp_proxies <- function(this_snp, vcf, gt) {\n",
    "  # Ensure the SNP is present.\n",
    "  stopifnot(this_snp %in% colnames(gt$genotypes))\n",
    "  # Compute linkage disequilibrium statistics.\n",
    "  gt_ld <- ld(\n",
    "    x = gt$genotypes,\n",
    "    y = gt$genotypes[,this_snp,drop=FALSE],\n",
    "    stats = c(\"D.prime\", \"R.squared\")\n",
    "  )\n",
    "  # Bind the stats into a dataframe.\n",
    "  cols <- names(gt_ld)\n",
    "  gt_ld <- do.call(cbind, gt_ld)\n",
    "  colnames(gt_ld) <- cols\n",
    "  # Get the position, width, strand, ..., for each SNP\n",
    "  gt_meta <- rowRanges(vcf)\n",
    "  # Bind the metadata to the LD statistics.\n",
    "  stopifnot(all(names(gt_meta) == rownames(gt_ld)))\n",
    "  gt_ld <- cbind(as.data.frame(gt_meta), gt_ld)\n",
    "  return(gt_ld)\n",
    "}"
   ]
  },
  {
   "cell_type": "markdown",
   "metadata": {},
   "source": [
    "You can run `?snpStats::ld` to learn more about the statistics\n",
    "implemented in the `snpStats` package."
   ]
  },
  {
   "cell_type": "code",
   "execution_count": 5,
   "metadata": {},
   "outputs": [
    {
     "data": {
      "text/html": [
       "<table>\n",
       "<thead><tr><th></th><th scope=col>seqnames</th><th scope=col>start</th><th scope=col>end</th><th scope=col>width</th><th scope=col>strand</th><th scope=col>paramRangeID</th><th scope=col>REF</th><th scope=col>ALT</th><th scope=col>QUAL</th><th scope=col>FILTER</th><th scope=col>D.prime</th><th scope=col>R.squared</th></tr></thead>\n",
       "<tbody>\n",
       "\t<tr><th scope=row>rs6489463</th><td>12          </td><td>483130      </td><td>483130      </td><td>1           </td><td>*           </td><td>NA          </td><td>G           </td><td> T          </td><td>NA          </td><td>PASS        </td><td>0.01531193  </td><td>2.271030e-05</td></tr>\n",
       "\t<tr><th scope=row>rs192120541</th><td>12          </td><td>483173      </td><td>483173      </td><td>1           </td><td>*           </td><td>NA          </td><td>G           </td><td> A          </td><td>NA          </td><td>PASS        </td><td>1.00000000  </td><td>6.329190e-05</td></tr>\n",
       "\t<tr><th scope=row>rs547723211</th><td>12          </td><td>483350      </td><td>483350      </td><td>1           </td><td>*           </td><td>NA          </td><td>T           </td><td>TA          </td><td>NA          </td><td>PASS        </td><td>        NA  </td><td>          NA</td></tr>\n",
       "\t<tr><th scope=row>rs569164619</th><td>12          </td><td>483416      </td><td>483416      </td><td>1           </td><td>*           </td><td>NA          </td><td>G           </td><td> T          </td><td>NA          </td><td>PASS        </td><td>1.00000000  </td><td>8.442296e-05</td></tr>\n",
       "\t<tr><th scope=row>rs150886436</th><td>12          </td><td>483479      </td><td>483479      </td><td>1           </td><td>*           </td><td>NA          </td><td>T           </td><td> C          </td><td>NA          </td><td>PASS        </td><td>0.25794641  </td><td>1.503325e-02</td></tr>\n",
       "\t<tr><th scope=row>rs376349655</th><td>12          </td><td>483768      </td><td>483768      </td><td>1           </td><td>*           </td><td>NA          </td><td>T           </td><td> C          </td><td>NA          </td><td>PASS        </td><td>1.00000000  </td><td>5.273271e-05</td></tr>\n",
       "</tbody>\n",
       "</table>\n"
      ],
      "text/latex": [
       "\\begin{tabular}{r|llllllllllll}\n",
       "  & seqnames & start & end & width & strand & paramRangeID & REF & ALT & QUAL & FILTER & D.prime & R.squared\\\\\n",
       "\\hline\n",
       "\trs6489463 & 12           & 483130       & 483130       & 1            & *            & NA           & G            &  T           & NA           & PASS         & 0.01531193   & 2.271030e-05\\\\\n",
       "\trs192120541 & 12           & 483173       & 483173       & 1            & *            & NA           & G            &  A           & NA           & PASS         & 1.00000000   & 6.329190e-05\\\\\n",
       "\trs547723211 & 12           & 483350       & 483350       & 1            & *            & NA           & T            & TA           & NA           & PASS         &         NA   &           NA\\\\\n",
       "\trs569164619 & 12           & 483416       & 483416       & 1            & *            & NA           & G            &  T           & NA           & PASS         & 1.00000000   & 8.442296e-05\\\\\n",
       "\trs150886436 & 12           & 483479       & 483479       & 1            & *            & NA           & T            &  C           & NA           & PASS         & 0.25794641   & 1.503325e-02\\\\\n",
       "\trs376349655 & 12           & 483768       & 483768       & 1            & *            & NA           & T            &  C           & NA           & PASS         & 1.00000000   & 5.273271e-05\\\\\n",
       "\\end{tabular}\n"
      ],
      "text/markdown": [
       "\n",
       "| <!--/--> | seqnames | start | end | width | strand | paramRangeID | REF | ALT | QUAL | FILTER | D.prime | R.squared | \n",
       "|---|---|---|---|---|---|\n",
       "| rs6489463 | 12           | 483130       | 483130       | 1            | *            | NA           | G            |  T           | NA           | PASS         | 0.01531193   | 2.271030e-05 | \n",
       "| rs192120541 | 12           | 483173       | 483173       | 1            | *            | NA           | G            |  A           | NA           | PASS         | 1.00000000   | 6.329190e-05 | \n",
       "| rs547723211 | 12           | 483350       | 483350       | 1            | *            | NA           | T            | TA           | NA           | PASS         |         NA   |           NA | \n",
       "| rs569164619 | 12           | 483416       | 483416       | 1            | *            | NA           | G            |  T           | NA           | PASS         | 1.00000000   | 8.442296e-05 | \n",
       "| rs150886436 | 12           | 483479       | 483479       | 1            | *            | NA           | T            |  C           | NA           | PASS         | 0.25794641   | 1.503325e-02 | \n",
       "| rs376349655 | 12           | 483768       | 483768       | 1            | *            | NA           | T            |  C           | NA           | PASS         | 1.00000000   | 5.273271e-05 | \n",
       "\n",
       "\n"
      ],
      "text/plain": [
       "            seqnames start  end    width strand paramRangeID REF ALT QUAL\n",
       "rs6489463   12       483130 483130 1     *      NA           G    T  NA  \n",
       "rs192120541 12       483173 483173 1     *      NA           G    A  NA  \n",
       "rs547723211 12       483350 483350 1     *      NA           T   TA  NA  \n",
       "rs569164619 12       483416 483416 1     *      NA           G    T  NA  \n",
       "rs150886436 12       483479 483479 1     *      NA           T    C  NA  \n",
       "rs376349655 12       483768 483768 1     *      NA           T    C  NA  \n",
       "            FILTER D.prime    R.squared   \n",
       "rs6489463   PASS   0.01531193 2.271030e-05\n",
       "rs192120541 PASS   1.00000000 6.329190e-05\n",
       "rs547723211 PASS           NA           NA\n",
       "rs569164619 PASS   1.00000000 8.442296e-05\n",
       "rs150886436 PASS   0.25794641 1.503325e-02\n",
       "rs376349655 PASS   1.00000000 5.273271e-05"
      ]
     },
     "metadata": {},
     "output_type": "display_data"
    }
   ],
   "source": [
    "this_snp <- \"rs11063140\"\n",
    "this_ld <- get_snp_proxies(this_snp, vcf, gt)\n",
    "\n",
    "head(this_ld)"
   ]
  },
  {
   "cell_type": "markdown",
   "metadata": {},
   "source": [
    "## Plot the r squared values in a region"
   ]
  },
  {
   "cell_type": "code",
   "execution_count": 6,
   "metadata": {},
   "outputs": [
    {
     "name": "stderr",
     "output_type": "stream",
     "text": [
      "Warning message:\n",
      "“Removed 291 rows containing missing values (geom_point).”"
     ]
    },
    {
     "data": {},
     "metadata": {},
     "output_type": "display_data"
    },
    {
     "data": {
      "image/png": "[encoded data removed]",
      "text/plain": [
       "plot without title"
      ]
     },
     "metadata": {},
     "output_type": "display_data"
    }
   ],
   "source": [
    "options(repr.plot.width = 6, repr.plot.height = 3)\n",
    "\n",
    "ggplot(this_ld, aes(x = end / 1e6, y = R.squared, color = R.squared)) +\n",
    "geom_point(size = 0.5) +\n",
    "scale_color_gradient2(mid = \"grey80\", high = \"red\") +\n",
    "theme_minimal(base_size = 14) +\n",
    "theme(legend.position = \"none\") +\n",
    "labs(x = \"Position (Mb)\", y = bquote(\"r\"^2), title = this_snp)"
   ]
  }
 ],
 "metadata": {
  "kernelspec": {
   "display_name": "R",
   "language": "R",
   "name": "ir"
  },
  "language_info": {
   "codemirror_mode": "r",
   "file_extension": ".r",
   "mimetype": "text/x-r-source",
   "name": "R",
   "pygments_lexer": "r",
   "version": "3.5.0"
  }
 },
 "nbformat": 4,
 "nbformat_minor": 2
}
